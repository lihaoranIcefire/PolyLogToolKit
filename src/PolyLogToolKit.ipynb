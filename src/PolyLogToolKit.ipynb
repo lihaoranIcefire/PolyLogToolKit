{
  "cells": [
    {
      "cell_type": "markdown",
      "metadata": {
        "id": "SlYlPBFE4RPY"
      },
      "source": [
        "### Julia installation Instructions (for Google Colab)"
      ]
    },
    {
      "cell_type": "code",
      "execution_count": null,
      "metadata": {
        "colab": {
          "base_uri": "https://localhost:8080/"
        },
        "id": "73QHiPxc4ZG3",
        "outputId": "4bea1913-b62a-40b2-e9a9-8a5edb72fc59"
      },
      "outputs": [],
      "source": [
        "%%bash\n",
        "set -e\n",
        "\n",
        "#---------------------------------------------------#\n",
        "JULIA_VERSION=\"1.11.5\" # any version ≥ 0.7.0\n",
        "JULIA_PACKAGES=\"IJulia BenchmarkTools\"\n",
        "JULIA_PACKAGES_IF_GPU=\"CUDA\" # or CuArrays for older Julia versions\n",
        "JULIA_NUM_THREADS=2\n",
        "#---------------------------------------------------#\n",
        "\n",
        "if [ -z `which julia` ]; then\n",
        "  # Install Julia\n",
        "  JULIA_VER=`cut -d '.' -f -2 <<< \"$JULIA_VERSION\"`\n",
        "  echo \"Installing Julia $JULIA_VERSION on the current Colab Runtime...\"\n",
        "  BASE_URL=\"https://julialang-s3.julialang.org/bin/linux/x64\"\n",
        "  URL=\"$BASE_URL/$JULIA_VER/julia-$JULIA_VERSION-linux-x86_64.tar.gz\"\n",
        "  wget -nv $URL -O /tmp/julia.tar.gz # -nv means \"not verbose\"\n",
        "  tar -x -f /tmp/julia.tar.gz -C /usr/local --strip-components 1\n",
        "  rm /tmp/julia.tar.gz\n",
        "\n",
        "  # Install Packages\n",
        "  nvidia-smi -L &> /dev/null && export GPU=1 || export GPU=0\n",
        "  if [ $GPU -eq 1 ]; then\n",
        "    JULIA_PACKAGES=\"$JULIA_PACKAGES $JULIA_PACKAGES_IF_GPU\"\n",
        "  fi\n",
        "  for PKG in `echo $JULIA_PACKAGES`; do\n",
        "    echo \"Installing Julia package $PKG...\"\n",
        "    julia -e 'using Pkg; pkg\"add '$PKG'; precompile;\"' &> /dev/null\n",
        "  done\n",
        "\n",
        "  # Install kernel and rename it to \"julia\"\n",
        "  echo \"Installing IJulia kernel...\"\n",
        "  julia -e 'using IJulia; IJulia.installkernel(\"julia\", env=Dict(\"JULIA_NUM_THREADS\"=>\"'\"$JULIA_NUM_THREADS\"'\"))'\n",
        "  KERNEL_DIR=`julia -e \"using IJulia; print(IJulia.kerneldir())\"`\n",
        "  KERNEL_NAME=`ls -d \"$KERNEL_DIR\"/julia*`\n",
        "  mv -f $KERNEL_NAME \"$KERNEL_DIR\"/julia\n",
        "\n",
        "  echo ''\n",
        "  echo \"Successfully installed `julia -v`!\"\n",
        "  echo \"Please reload this page (press Ctrl+R, ⌘+R, or the F5 key) then\"\n",
        "  echo \"jump to the 'Checking the Installation' section.\"\n",
        "fi"
      ]
    },
    {
      "cell_type": "code",
      "execution_count": null,
      "metadata": {
        "colab": {
          "base_uri": "https://localhost:8080/"
        },
        "id": "_gcvgxEzuzBo",
        "outputId": "143f7c79-cd88-4316-d6eb-300a8bb2842c"
      },
      "outputs": [],
      "source": [
        "using Pkg\n",
        "Pkg.add(\"Latexify\")\n",
        "Pkg.add(\"LaTeXStrings\")\n",
        "Pkg.add(\"Combinatorics\")\n",
        "Pkg.add(\"Symbolics\")\n",
        "Pkg.add(\"Documenter\")"
      ]
    },
    {
      "cell_type": "markdown",
      "metadata": {
        "id": "Q8hdb9M2IfVN"
      },
      "source": [
        "## $\\mathbb I^{\\text{Symb}}$\n",
        "\n",
        "$I(a_{i_0}; 0^{n_0-1}, a_{i_1}, 0^{n_1-1}, \\cdots, a_{i_m}, 0^{n_m-1}; a_{i_{m+1}})\\leftrightsquigarrow (i_0, n_0, i_1, n_1, \\cdots, i_m, n_m, i_{m+1})$ is of weight $n_0+\\cdots+n_m-1$"
      ]
    },
    {
      "cell_type": "markdown",
      "metadata": {
        "id": "-Q0AJiogFdKc"
      },
      "source": [
        "There is a total ordering $(i_0, n_0, i_1, n_1, \\cdots, i_m, n_m, i_{m+1})\\prec(i'_0, n'_0, i'_1, n'_1, \\cdots, i'_{m'}, n'_{m'}, i'_{m'+1})$\n",
        "- if: $\\sum n_k < \\sum n'_k$\n",
        "<!-- - else if: $i_{m+1} < i'_{m'+1}$ -->\n",
        "- else: $i_{m-r} < i'_{m'-r}$ or $n_{m-r} > n'_{m'-r}$ and the entries to the right coincide"
      ]
    },
    {
      "cell_type": "markdown",
      "metadata": {
        "id": "Uigvx_QP3RCE"
      },
      "source": [
        "### $\\Phi$ map\n",
        "\n",
        "- $\\Phi(I(a; b)) = 1,\\quad \\Phi(I(0; \\cdots; 0)) = 0$\n",
        "\n",
        "- $\\Phi(I(a_{i_0};0^{n_0-1},\\cdots,a_{i_m},0^{n_m-1};0))=(-1)^{n_0+\\cdots+n_m-1}\\Phi(I(0;0^{n_m-1},a_{i_m},\\cdots,0^{n_0-1};a_{i_0})),\\quad a_{i_0}\\neq0$\n",
        "\n",
        "- $\\Phi(I(a_{i_0};0^{n_0-1},\\cdots,a_{i_m},0^{n_m-1};a_{i_{m+1}}))\\\\\n",
        "\\displaystyle=\\sum_{k=0}^m\\sum_{p+q=n_k+1}\\Phi(I(a_{i_0};\\cdots,a_{i_k},0^{p-1};0))\\Phi(I(0,0^{q-1},a_{i_{k+1}},\\cdots;a_{i_{m+1}})),\\quad a_{i_0}, a_{i_{m+1}} \\neq 0$\n",
        "\n",
        "- $\\Phi(I(0;0^{n_0-1},a_{i_1},0^{n_1-1},\\cdots,a_{i_m},0^{n_m-1};a_{i_{m+1}}))=\\\\\n",
        "\\displaystyle\\sum_{p_0+\\cdots+p_m=n_0-1}(-1)^{n_0+p_0+m-1}\\dfrac{\\log^{p_0}(a_{i_{m+1}})}{p_0!}\\binom{n_1+p_1-1}{n_1-1}\\cdots\\binom{n_m+p_m-1}{n_m-1}\\left[\\frac{a_{i_2}}{a_{i_1}},\\cdots,\\frac{a_{i_{m+1}}}{a_{i_m}}\\right]_{n_1+p_1,\\cdots,n_m+p_m}$\n",
        "\n",
        "Note: $\\log^0(a_{i_{m+1}})$ is taken to be $1$ for $p_0=0$ even if $a_{i_{m+1}}=1$"
      ]
    },
    {
      "cell_type": "markdown",
      "metadata": {
        "id": "McTQ96DfmI5r"
      },
      "source": [
        "## $\\mathbb H^{\\text{Symb}}$\n",
        "\n",
        "$$\n",
        "[x_{i_1\\to i_2},\\cdots,x_{i_d\\to i_{d+1}}]_{n_1,\\cdots,n_d}\\leftrightsquigarrow(i_1,n_1,i_2-i_1,\\cdots,i_d-i_{d-1},n_d,i_{d+1}-i_d),\\quad [x_{i_1\\to i_2}]_0\\leftrightsquigarrow(i_1,0,i_2-i_1)\n",
        "$$\n",
        "\n",
        "Or $(m_1,n_1,\\cdots,m_d,n_d,m_{d+1})$ so that $i_r = m_1 + \\cdots + m_r$"
      ]
    },
    {
      "cell_type": "markdown",
      "metadata": {
        "id": "nEIVu_zaZIdf"
      },
      "source": [
        "The total ordering is $(m_1,n_1,\\cdots,m_d,n_d,m_{d+1})\\prec(m'_1,n'_1,\\cdots,m'_{d'},n'_{d'},m'_{d'+1})$\n",
        "- if: $\\sum n_k < \\sum n'_k$\n",
        "- else if: $\\sum m_k < \\sum m'_k$\n",
        "- else: $m_{d-r} > m'_{d'-r}$ or $n_{d-r} > n'_{d'-r}$ and the entries to the right coincide"
      ]
    },
    {
      "cell_type": "markdown",
      "metadata": {
        "id": "o4hwgZX2kjb6"
      },
      "source": [
        "The $\\partial_{r}$ of $(m_1,n_1,\\cdots,m_d,n_d,m_{d+1})$ is\n",
        "- if $d = 1$ and $n_1 = 1$: $-dv_{i_1,i_2-1}$\n",
        "- else if $n_r>1$: $(\\cdots,n_r-1,\\cdots) du_{i_r, i_{r+1}-1}$\n",
        "- else if $r=d$: $-(\\cdots,n_{d-1},m_d+m_{d+1}) dv_{i_d,i_{d+1}-1}$\n",
        "- else: $-(\\cdots,m_{r}+m_{r+1},n_{r+1},\\cdots) dv_{i_r, i_{r+1}-1} + (\\cdots,m_r,n_{r+1},m_{r+1}+m_{r+2},\\cdots) (du_{i_r, i_{r+1}-1} - dv_{i_r, i_{r+1}-1})$\n",
        "\n",
        "Since\n",
        "$$\n",
        "[x_{i_1\\to i_2},\\cdots,x_{i_d\\to i_{d+1}}]_{n_1,\\cdots,n_d}\\leftrightsquigarrow I(a_0;a_{i_1},0^{n_1-1},\\cdots,a_{i_d},0^{n_d-1};a_{i_{d+1}})\n",
        "$$\n",
        "so $\\Phi^{-1}$ is implemented as\n",
        "$$\n",
        "(m_1,n_1,\\cdots,m_d,n_d,m_{d+1})\\rightsquigarrow(0,1,i_1,n_1,\\cdots,i_d,n_d,i_{d+1})\n",
        "$$"
      ]
    },
    {
      "cell_type": "markdown",
      "metadata": {},
      "source": [
        "## Implementation of $\\Phi$"
      ]
    },
    {
      "cell_type": "markdown",
      "metadata": {
        "id": "vQKQQZxr3V5l"
      },
      "source": [
        "- $\\Phi(i_0,1,i_1) = 1,\\quad \\Phi(0,n_0,\\cdots,n_m,0) = 0$\n",
        "\n",
        "- $\\Phi(i_0, n_0, \\cdots, i_m, n_m, 0)=(-1)^{n_0+\\cdots+n_m-1}\\Phi(0,n_m,i_m,\\cdots,n_0,i_0),\\quad i_0\\neq0$\n",
        "\n",
        "- $\\displaystyle\\Phi(i_0,n_0,\\cdots,i_m,n_m,i_{m+1})=\\sum_{k=0}^m\\sum_{p+q=n_k+1}\\Phi(i_0,\\cdots,i_k,p;0)\\Phi(0,q,i_{k+1},\\cdots;i_{m+1}),\\quad i_0,i_{m+1} \\neq 0$\n",
        "\n",
        "- $\\displaystyle\\Phi(0;n_0,i_1,n_1,\\cdots,i_m,n_m,d+1)=\\sum_{p_1+\\cdots+p_m=n_0-1}(-1)^{n_0+m-1}\\binom{n_1+p_1-1}{n_1-1}\\cdots\\binom{n_m+p_m-1}{n_m-1}\\\\(i_1,n_1+p_1,i_2-i_1,\\cdots,i_m-i_{m-1},n_m+p_m,d+1-i_m)$\n",
        "\n",
        "- $\\displaystyle\\Phi(0;n_0,i_1,n_1,\\cdots,i_m,n_m,i_{m+1})=\\sum_{p_0+\\cdots+p_m=n_0-1}(-1)^{n_0+p_0+m-1}\\dfrac{(i_{m+1},1,d+1)^{p_0}}{p_0!}\\binom{n_1+p_1-1}{n_1-1}\\cdots\\binom{n_m+p_m-1}{n_m-1}\\\\(i_1,n_1+p_1,i_2-i_1,\\cdots,i_m-i_{m-1},n_m+p_m,i_{m+1}-i_m)$"
      ]
    },
    {
      "cell_type": "markdown",
      "metadata": {},
      "source": [
        "### Inversion map $\\overline{\\text{INV}}$"
      ]
    },
    {
      "cell_type": "markdown",
      "metadata": {},
      "source": [
        "Inspired by Goncharov's inversion formula for multiple polylogarithms\n",
        "```math\n",
        "\\begin{align*}\n",
        "\\text{Li}&_{n_d,\\cdots,n_1}(x_d^{-1},\\cdots,x_1^{-1})\\\\\n",
        "=&-\\sum_{r=0}^{d-1}(-1)^{n_{r+1}+\\cdots+n_d}\\text{Li}_{n_r,\\cdots,n_1}(x_r^{-1},\\cdots,x_1^{-1})\\text{Li}_{n_{r+1},\\cdots,n_d}(x_{r+1},\\cdots,x_d)-\\\\\n",
        "&\\sum_{r=1}^d\\sum_{m_1+\\cdots+m_d=n_r}(-1)^{n_r+\\cdots+n_d+m_{r+1}+\\cdots+m_d}\\prod_{\\substack{1\\leq i\\leq d\\\\i\\neq r}}\\binom{n_i+m_i-1}{n_i-1}B_{m_r}\\left(\\frac{\\log(x_1\\cdots x_d)}{2\\pi i}\\right)\\\\\n",
        "&\\frac{(2\\pi i)^{m_r}}{m_r!}\\text{Li}_{n_{r-1}+m_{r-1},\\cdots,n_1+m_1}(x_{r-1}^{-1},\\cdots,x_1^{-1})\\text{Li}_{n_{r+1}+m_{r+1},\\cdots,n_d+m_d}(x_{r+1},\\cdots,x_d)\n",
        "\\end{align*}\n",
        "```"
      ]
    },
    {
      "cell_type": "markdown",
      "metadata": {},
      "source": [
        "Modulo $\\pi i$ we have\n",
        "```math\n",
        "\\begin{align*}\n",
        "\\text{Li}&_{n_d,\\cdots,n_1}(x_d^{-1},\\cdots,x_1^{-1})\\\\\n",
        "=&-\\sum_{r=0}^{d-1}(-1)^{n_{r+1}+\\cdots+n_d}\\text{Li}_{n_r,\\cdots,n_1}(x_r^{-1},\\cdots,x_1^{-1})\\text{Li}_{n_{r+1},\\cdots,n_d}(x_{r+1},\\cdots,x_d)-\\\\\n",
        "&\\sum_{r=1}^d\\sum_{m_1+\\cdots+m_d=n_r}(-1)^{n_r+\\cdots+n_d+m_{r+1}+\\cdots+m_d}\\prod_{\\substack{1\\leq i\\leq d\\\\i\\neq r}}\\binom{n_i+m_i-1}{n_i-1}\\\\\n",
        "&\\frac{\\log^{m_r}(x_1\\cdots x_d)}{m_r!}\\text{Li}_{n_{r-1}+m_{r-1},\\cdots,n_1+m_1}(x_{r-1}^{-1},\\cdots,x_1^{-1})\\text{Li}_{n_{r+1}+m_{r+1},\\cdots,n_d+m_d}(x_{r+1},\\cdots,x_d)\n",
        "\\end{align*}\n",
        "```"
      ]
    },
    {
      "cell_type": "code",
      "execution_count": null,
      "metadata": {
        "colab": {
          "base_uri": "https://localhost:8080/"
        },
        "id": "2PpKpyhondYm",
        "outputId": "26238360-f6c0-431f-f24f-88f029008f8a"
      },
      "outputs": [
        {
          "data": {
            "text/plain": [
              "\"(4)+(56)[x_{1\\\\to 3},x_{3\\\\to 6},x_{6\\\\to 10}]_{2,3,9}+(105)[x_{1\\\\to 3},x_{3\\\\to 6},x_{6\\\\to 10}]_{2,4,8}+(70)[x_{1\\\\to 3},x_{3\\\\to 6},x_{6\\\\to 10}]_{3,3,8}+(120)[x_{1\\\\to 3},x_{3\\\\to 6},x_{6\\\\to 10}]_{2,5,7}+(120)[x_{1\\\\to 3},x_{3\\\\to 6},x_{6\\\\to 10}]_{3,4,7}+(60)[x_{1\\\\to 3},x_{3\\\\to\"\u001b[93m\u001b[1m ⋯ 2900 bytes ⋯ \u001b[22m\u001b[39m\"{10\\\\to 21}]_{1}^{4}[x_{1\\\\to 3},x_{3\\\\to 6},x_{6\\\\to 10}]_{2,3,5}+(3)[x_{10\\\\to 21}]_{1}^{4}[x_{1\\\\to 3},x_{3\\\\to 6},x_{6\\\\to 10}]_{2,4,4}+(2)[x_{10\\\\to 21}]_{1}^{4}[x_{1\\\\to 3},x_{3\\\\to 6},x_{6\\\\to 10}]_{3,3,4}+(-1)[x_{10\\\\to 21}]_{1}^{5}[x_{1\\\\to 3},x_{3\\\\to 6},x_{6\\\\to 10}]_{2,3,4}\""
            ]
          },
          "metadata": {},
          "output_type": "display_data"
        }
      ],
      "source": [
        "Phi(ISymb(0, 6, 1, 2, 3, 3, 6, 4, 10) + 6* ISymb(0,1,1,1,2)^2 + 4, 10).latex_repr"
      ]
    },
    {
      "cell_type": "markdown",
      "metadata": {
        "id": "m7afn01Fmi4K"
      },
      "source": [
        "## $\\mathbb Q$ algberas"
      ]
    },
    {
      "cell_type": "code",
      "execution_count": null,
      "metadata": {
        "colab": {
          "base_uri": "https://localhost:8080/"
        },
        "id": "SaP1Ps11XwaU",
        "outputId": "3a33a812-5e72-4815-b762-57dbb13e9a30"
      },
      "outputs": [
        {
          "name": "stdout",
          "output_type": "stream",
          "text": [
            "(4)I(a_{0},a_{1},a_{2})\n",
            "(4)I(a_{0},a_{1},a_{2})I(a_{0},a_{1},0^{2},a_{2})^{3}\n",
            "(4)I(a_{0},a_{1},a_{2})\n",
            "I(a_{0},a_{1},a_{2})^{2}\n",
            "(2)I(a_{0},a_{1},a_{2})+(4)I(a_{0},a_{1},0^{2},a_{2})\n",
            "(4)I(a_{0},a_{1},0^{2},a_{2})+(-4)I(a_{0},a_{1},0^{4},a_{2})+(2)I(a_{0},a_{1},a_{2})^{7}\n"
          ]
        }
      ],
      "source": [
        "println((\n",
        "    4 * ISymb(0,1,1,1,2)\n",
        ").latex_repr)\n",
        "println((\n",
        "    4 * monomial{Symb}(ISymb(0,1,1,1,2), (ISymb(0,1,1,3,2), 3))\n",
        ").latex_repr)\n",
        "println((\n",
        "    4 * polynomial{Symb}(monomial{Symb}(ISymb(0,1,1,1,2)))\n",
        ").latex_repr)\n",
        "println((\n",
        "    ISymb(0,1,1,1,2) * ISymb(0,1,1,1,2)\n",
        ").latex_repr)\n",
        "println((\n",
        "    (4*ISymb(0,1,1,3,2)) + (2*ISymb(0,1,1,1,2))\n",
        ").latex_repr)\n",
        "println((\n",
        "    (4*ISymb(0,1,1,3,2)) + (2*ISymb(0,1,1,1,2)^7) - 4 * ISymb(0,1,1,5,2)\n",
        ").latex_repr)"
      ]
    },
    {
      "cell_type": "code",
      "execution_count": null,
      "metadata": {},
      "outputs": [
        {
          "data": {
            "text/plain": [
              "HSymb((1, 1, 1, 1, 1, 1, 3), 3, 3, (1, 2, 3, 6), Main.LogToolKit.var\"#m#48\"{NTuple{7, Int64}}((1, 1, 1, 1, 1, 1, 3)), Main.LogToolKit.var\"#n#49\"{NTuple{7, Int64}}((1, 1, 1, 1, 1, 1, 3)), \"[x_{1\\\\to 2},x_{2\\\\to 3},x_{3\\\\to 6}]_{1,1,1}\")"
            ]
          },
          "metadata": {},
          "output_type": "display_data"
        }
      ],
      "source": [
        "# Li((1,1,1),(1,2,3))\n",
        "Li((1,1,1),(1,2:3,3:6))\n",
        "# Li((1,1,2),(2:3,3:5,5))"
      ]
    },
    {
      "cell_type": "markdown",
      "metadata": {
        "id": "xXNtd59-waB0"
      },
      "source": [
        "## $\\mathbb L^{\\text{Symb}}$"
      ]
    },
    {
      "cell_type": "markdown",
      "metadata": {
        "id": "3OMcT03_axAT"
      },
      "source": [
        "## Tensor algebra"
      ]
    },
    {
      "cell_type": "markdown",
      "metadata": {
        "id": "pcUIqh-62ZyH"
      },
      "source": [
        "$$\n",
        "\\left(\\sum_{i_1}c_{i_i}^{(1)}t_{i_1}^{(1)}\\right)\\otimes\\cdots\\otimes\\left(\\sum_{i_N}c_{i_N}^{(N)}t_{i_N}^{(N)}\\right)=\\sum_{i_1,\\cdots,i_N}c_{i_i}^{(1)}\\cdots c_{i_N}^{(N)} t_{i_1}^{(1)}\\otimes\\cdots\\otimes t_{i_N}^{(N)}\n",
        "$$\n",
        "\n",
        "$$\n",
        "\\left(\\sum_{\\mathbf i}c_{\\mathbf i}^{(1)}t_{i_1}^{(1)}\\otimes\\cdots\\otimes t_{i_N}^{(1)}\\right)\\left(\\sum_{\\mathbf j}c_{\\mathbf j}^{(2)}t_{j_1}^{(2)}\\otimes\\cdots\\otimes t_{j_N}^{(2)}\\right)=\\sum_{\\mathbf i,\\mathbf j}c_{\\mathbf i}^{(1)}c_{\\mathbf j}^{(2)}\\left(t_{i_1}^{(1)}t_{j_1}^{(2)}\\right)\\otimes\\cdots\\otimes\\left(t_{i_N}^{(1)}t_{j_N}^{(2)}\\right)\n",
        "$$"
      ]
    },
    {
      "cell_type": "markdown",
      "metadata": {
        "id": "nUfPAfzDaxAT"
      },
      "source": [
        "## $\\bigwedge^*\\mathbb L^{\\text{Symb}}$"
      ]
    },
    {
      "cell_type": "markdown",
      "metadata": {},
      "source": [
        "## Variation matrix over $S_d(\\mathbb C)$"
      ]
    },
    {
      "cell_type": "markdown",
      "metadata": {
        "id": "c4i1Rf0iSENG"
      },
      "source": [
        "Recall the *complementary entry* of $(-1)^kI(0;a_{i_1},0^{m_{1}-1},\\cdots,a_{i_k},0^{m_{k}-1};1)$ with respect to $(-1)^lI(0;a_{j_1},0^{p_{1}-1},\\cdots,a_{j_l},0^{p_{l}-1};1)$ is\n",
        "$$\n",
        "(-1)^{l-k} I^{\\sigma_{i_1}\\sigma_0^{m_{1}-1}\\cdots\\sigma_{i_k}\\sigma_0^{m_{k}-1}}(0;a_{j_1},0^{p_{1}-1},\\cdots,a_{j_l},0^{p_{l}-1};1)\n",
        "$$\n",
        "\n",
        "$\\sigma_{i_1}\\sigma_0^{m_1-1}\\cdots\\sigma_{i_k}\\sigma_0^{m_k-1}$ should correspond to $(0,1,i_1,m_1,\\cdots, i_k,m_k)$\n",
        "\n",
        "Suppose $\\{i_1,\\cdots,i_k\\}=\\{j_{q_1},\\cdots,j_{q_k}\\}$ is a subsequence of $\\{j_1,\\cdots,j_l\\}$ (otherwise the complementary entry is 0), then the complementary entry is\n",
        "\n",
        "$$\n",
        "(-1)^{l-k}I(0;\\cdots;a_{j_{q_1}})\\left(\\prod_{r=1}^{k-1} I^{\\sigma_0^{m_r-1}}(a_{j_{q_r}};\\cdots;a_{j_{q_{r+1}}})\\right)I^{\\sigma_0^{m_k-1}}(a_{j_{q_k}};\\cdots;1)\n",
        "$$\n",
        "\n",
        "Assume\n",
        "- $a_0=0$, $a_{d+1}=1$\n",
        "- $i_0=j_0=0$, $i_{k+1}=j_{l+1}=d+1$ so that $q_0=0$, $q_{k+1}=l$,\n",
        "- $m_0=1$\n",
        "\n",
        "then the complementary entry is\n",
        "$$\n",
        "(-1)^{l-k}\\prod_{r=0}^{k} I^{\\sigma_0^{m_r-1}}(a_{j_{q_r}};\\cdots;a_{j_{q_{r+1}}})\n",
        "$$\n",
        "If $m_r > 1$, it is equal to\n",
        "$$\n",
        "I^{\\sigma_0^{m_r-1}}(a_{j_{q_r}};\\cdots;a_{j_{q_{r+1}}})=\\sum_{\\substack{q_r\\leq s<q_{r+1} \\\\ m_r \\leq p_s}}\\sum_{u+v=p_s-m_r}I(a_{j_{q_r}};\\cdots,a_{j_s},0^{u};0)I(0;0^{v},a_{j_{s+1}},\\cdots;a_{j_{q_{r+1}}})\n",
        "$$\n",
        "\n",
        "\n",
        "\n",
        "`complementaryEntry(w1, w2)`: the complementary entry of $w_1 = (0,1,j_1,p_1,\\cdots,j_l,p_l)$ and $w_2 = (0,1,i_1,m_1,\\cdots,i_k,m_k)$. Which should be the product of `Isigma(r)` from $r=0$ to $k$"
      ]
    },
    {
      "cell_type": "markdown",
      "metadata": {
        "id": "rjMA-E7JHSWh"
      },
      "source": [
        "## Monodromy Matrix"
      ]
    },
    {
      "cell_type": "markdown",
      "metadata": {
        "id": "H8i4iqAZCEAu"
      },
      "source": [
        "Suppose $i_r\\leq i_0<i_{r+1}$, and denote $w_0=\\sigma_{i_1}\\sigma_0^{m_{1}-1}\\cdots\\sigma_{i_k}\\sigma_0^{m_{k}-1}$, we have\n",
        "$$\n",
        "\\mathscr M_{\\nu_{i_0}}I^{w_0}(0;a_{j_1},0^{p_{1}-1},\\cdots,a_{j_l},0^{p_{l}-1};1)=\\sum_{w}M^{(i_0)}_{w,w_0}I^{w}(0;a_{j_1},0^{p_{1}-1},\\cdots,a_{j_l},0^{p_{l}-1};1)\n",
        "$$\n",
        "With constant coefficient\n",
        "$$\n",
        "M^{(i_0)}_{w,w_0}=(2\\pi i)^{\\theta_{i_0+1}+\\cdots+\\theta_{i_{r+1}-1}}\\frac{(2\\pi i)^{q_r}}{q_r!}\n",
        "$$\n",
        "for $w=\\sigma_{i_1}\\sigma_0^{m_{1}-1}\\cdots\\sigma_{i_r}\\sigma_{i_0+1}^{\\theta_{i_0+1}}\\cdots\\sigma_{i_{r+1}-1}^{\\theta_{i_{r+1}-1}}\\sigma_0^{m_{r}-1+q_r}\\cdots\\sigma_{i_k}\\sigma_0^{m_{k}-1}$, and otherwise zero. It is then straightfoward to see that $M^{(i_0)}=\\left\\{(-1)^{k+\\theta_{i_0+1}+\\cdots+\\theta_{i_{r+1}-1}}M^{(i_0)}_{w,v}\\right\\}_{w,v}$ defines precisely the monodromy matrix for the operator $\\mathscr M_{\\nu_{i_0}}$."
      ]
    },
    {
      "cell_type": "markdown",
      "metadata": {
        "id": "TGqPNPY_HXR4"
      },
      "source": [
        "$$\n",
        "\\mathscr M_{\\nu_{i_0,j_0}}I^{w_0}(0;a_{j_1},0^{p_{j_1}-1},\\cdots,a_{j_l},0^{p_{j_l}-1};1)=\\sum_{w}M^{(i_0,j_0)}_{w,w_0}I^{w}(0;a_{j_1},0^{p_{j_1}-1},\\cdots,a_{j_l},0^{p_{j_l}-1};1)\n",
        "$$\n",
        "With constant coefficient $M^{(i_0,j_0)}_{w,w_0}$ being\n",
        "$$\n",
        "(-1)^\\delta(2\\pi i)^{\\delta(\\theta_{i_0+1}+\\cdots+\\theta_{j_0}+1)}\n",
        "$$\n",
        "for $w=\\sigma_{i_1}\\sigma_0^{m_{i_1}-1}\\cdots\\sigma_{i_r}\\sigma_{i_0+1}^{\\delta\\theta_{i_0+1}}\\cdots\\sigma_{j_0}^{\\delta\\theta_{j_0}}\\sigma_{j_0+1}^\\delta\\sigma_0^{m_{i_r}-1}\\cdots\\sigma_{i_k}\\sigma_0^{m_{i_k}-1}$, $i_r=i_0<j_0+1<i_{r+1}$, and\n",
        "$$\n",
        "(2\\pi i)^{\\delta(1+\\theta_{i_0+1}+\\cdots+\\theta_{j_0})}\n",
        "$$\n",
        "for $w=\\sigma_{i_1}\\sigma_0^{m_{i_1}-1}\\cdots\\sigma_{i_r}\\sigma_0^{m_{i_r}-1}\\sigma_{i_0}^\\delta\\sigma_{i_0+1}^{\\delta\\theta_{i_0+1}}\\cdots\\sigma_{j_0}^{\\delta\\theta_{j_0}}\\cdots\\sigma_{i_k}\\sigma_0^{m_{i_k}-1}$, $i_r<i_0<j_0+1=i_{r+1}$. It is then straightforward to see that $M^{(i_0,j_0)}=\\left\\{(-1)^{k+\\delta(1+\\theta_{i_0+1}+\\cdots+\\theta_{j_0})}M^{(i_0,j_0)}_{w,v}\\right\\}_{w,v}$ defines precisely the monodromy matrix for the operator $\\mathscr M_{\\nu_{i_0,j_0}}$."
      ]
    },
    {
      "cell_type": "code",
      "execution_count": null,
      "metadata": {},
      "outputs": [
        {
          "data": {
            "text/plain": [
              "131072"
            ]
          },
          "metadata": {},
          "output_type": "display_data"
        }
      ],
      "source": [
        "C = fundamental_column(Li(ntuple(_->1,17),tuple(1:17...)))\n",
        "length(C)"
      ]
    },
    {
      "cell_type": "code",
      "execution_count": 1,
      "metadata": {},
      "outputs": [],
      "source": [
        "include(\"PolyLogToolKit.jl\")\n",
        "using .LogToolKit\n",
        "using LaTeXStrings"
      ]
    },
    {
      "cell_type": "code",
      "execution_count": 6,
      "metadata": {},
      "outputs": [
        {
          "data": {
            "text/plain": [
              "8×8 Matrix{Int64}:\n",
              "  1  0  0  0  0  0  0  0\n",
              " -1  1  0  0  0  0  0  0\n",
              "  0  0  1  0  0  0  0  0\n",
              "  0  0  0  1  0  0  0  0\n",
              "  1  0  0  0  1  0  0  0\n",
              "  0  0  0  0  0  1  0  0\n",
              "  0  0  0  0  0  0  1  0\n",
              "  0  0  0  0  0  0  0  1"
            ]
          },
          "metadata": {},
          "output_type": "display_data"
        }
      ],
      "source": [
        "# MonodromyMatrix(Li((10,),(1,)), 1)\n",
        "# MonodromyMatrix(Li((10,),(1,)), 1, 1)\n",
        "# MonodromyMatrix(Li((2,),(1:3,)), 1, 1)\n",
        "# MonodromyMatrix(Li((1,2),(1,2)), 1, 2)\n",
        "# MonodromyMatrix(Li((3,1),(1,2)), 1)\n",
        "# MonodromyMatrix(Li((1,1),(1,2)), 1,1)\n",
        "# MonodromyMatrix(Li((1,1,1,1,1),(1,2,3,4,5)), 1,4)\n",
        "# MonodromyMatrix(Li((3,1),(1,2)), 2, 2)\n",
        "MonodromyMatrix(Li((3,1),(1,2)), 1,2)\n",
        "# MonodromyMatrix(Li((3,1),(1,2)), 1, 1)\n",
        "# MonodromyMatrixEntry(Li((1,1,),(1,2)), Li((1,),(1:3,)), 2)\n",
        "# MonodromyMatrixEntry(Li((2,1),(1,2)), Li((2,),(1:3,)), 1, 1)\n",
        "# MonodromyMatrixEntry(Li((1,),(2,)), 1, 1, 2)"
      ]
    },
    {
      "cell_type": "code",
      "execution_count": 4,
      "metadata": {},
      "outputs": [
        {
          "data": {
            "text/latex": [
              "$\\begin{bmatrix}1 & 0 & 0 & 0 & 0 & 0 & 0 & 0 \\\\ [x_{1\\to 3}]_{1} & 1 & 0 & 0 & 0 & 0 & 0 & 0 \\\\ [x_{2}]_{1} & 0 & 1 & 0 & 0 & 0 & 0 & 0 \\\\ [x_{1\\to 3}]_{2} & [x_{1\\to 3}]_{0} & 0 & 1 & 0 & 0 & 0 & 0 \\\\ [x_{1},x_{2}]_{1,1} & -[x_{1}]_{1}-[x_{1}]_{0}+[x_{2}]_{1} & [x_{1}]_{1} & 0 & 1 & 0 & 0 & 0 \\\\ [x_{1\\to 3}]_{3} & \\frac{1}{2}[x_{1\\to 3}]_{0}^{2} & 0 & [x_{1\\to 3}]_{0} & 0 & 1 & 0 & 0 \\\\ [x_{1},x_{2}]_{2,1} & -[x_{1}]_{2}-[x_{2}]_{2}-\\frac{1}{2}[x_{1}]_{0}^{2}+[x_{1\\to 3}]_{0}[x_{2}]_{1} & [x_{1}]_{2} & [x_{2}]_{1} & [x_{1\\to 3}]_{0}-[x_{2}]_{0} & 0 & 1 & 0 \\\\ [x_{1},x_{2}]_{3,1} & -[x_{1}]_{3}+[x_{2}]_{3}-[x_{1\\to 3}]_{0}[x_{2}]_{2}-\\frac{1}{6}[x_{1}]_{0}^{3}+\\frac{1}{2}[x_{1\\to 3}]_{0}^{2}[x_{2}]_{1} & [x_{1}]_{3} & -[x_{2}]_{2}+[x_{1\\to 3}]_{0}[x_{2}]_{1} & \\frac{1}{2}[x_{1\\to 3}]_{0}^{2}-[x_{1\\to 3}]_{0}[x_{2}]_{0}+\\frac{1}{2}[x_{2}]_{0}^{2} & [x_{2}]_{1} & [x_{1\\to 3}]_{0}-[x_{2}]_{0} & 1\\end{bmatrix}$"
            ],
            "text/plain": [
              "\"\\$\\\\begin{bmatrix}1 & 0 & 0 & 0 & 0 & 0 & 0 & 0 \\\\\\\\ [x_{1\\\\to 3}]_{1} & 1 & 0 & 0 & 0 & 0 & 0 & 0 \\\\\\\\ [x_{2}]_{1} & 0 & 1 & 0 & 0 & 0 & 0 & 0 \\\\\\\\ [x_{1\\\\to 3}]_{2} & [x_{1\\\\to 3}]_{0} & 0 & 1 & 0 & 0 & 0 & 0 \\\\\\\\ [x_{1},x_{2}]_{1,1} & -[x_{1}]_{1}-[x_{1}]_{0}+[x_{2}]_{1} & [x_{1}]\"\u001b[93m\u001b[1m ⋯ 380 bytes ⋯ \u001b[22m\u001b[39m\"{6}[x_{1}]_{0}^{3}+\\\\frac{1}{2}[x_{1\\\\to 3}]_{0}^{2}[x_{2}]_{1} & [x_{1}]_{3} & -[x_{2}]_{2}+[x_{1\\\\to 3}]_{0}[x_{2}]_{1} & \\\\frac{1}{2}[x_{1\\\\to 3}]_{0}^{2}-[x_{1\\\\to 3}]_{0}[x_{2}]_{0}+\\\\frac{1}{2}[x_{2}]_{0}^{2} & [x_{2}]_{1} & [x_{1\\\\to 3}]_{0}-[x_{2}]_{0} & 1\\\\end{bmatrix}\\$\""
            ]
          },
          "metadata": {},
          "output_type": "display_data"
        }
      ],
      "source": [
        "# V = VariationMatrix(Li((3,),(1,)))\n",
        "V = VariationMatrix(Li((3,1,),(1,2,)))\n",
        "L\"%$(latex_repr(\n",
        "# V[3,2]\n",
        "# V\n",
        "Phi(V,2)\n",
        "))\""
      ]
    },
    {
      "cell_type": "code",
      "execution_count": 6,
      "metadata": {},
      "outputs": [
        {
          "data": {
            "text/latex": [
              "$\\begin{bmatrix}1 & 0 & 0 & 0 & 0 & 0 & 0 & 0 \\\\ -I(a_{0},a_{1},a_{3}) & 1 & 0 & 0 & 0 & 0 & 0 & 0 \\\\ -I(a_{0},a_{2},a_{3}) & 0 & 1 & 0 & 0 & 0 & 0 & 0 \\\\ -I(a_{0},a_{1},0,a_{3}) & I(a_{0},a_{1})I(a_{1},0,a_{3}) & 0 & 1 & 0 & 0 & 0 & 0 \\\\ I(a_{0},a_{1},a_{2},a_{3}) & -I(a_{0},a_{1})I(a_{1},a_{2},a_{3}) & -I(a_{2},a_{3})I(a_{0},a_{1},a_{2}) & 0 & 1 & 0 & 0 & 0 \\\\ -I(a_{0},a_{1},0^{2},a_{3}) & I(a_{0},a_{1})I(a_{1},0^{2},a_{3}) & 0 & I(a_{0},a_{1})I(a_{1},a_{0})I(a_{0},0,a_{3})+I(a_{0},a_{3})I(a_{0},a_{1})I(a_{1},0,a_{0}) & 0 & 1 & 0 & 0 \\\\ I(a_{0},a_{1},0,a_{2},a_{3}) & -I(a_{0},a_{1})I(a_{1},0,a_{2},a_{3}) & -I(a_{2},a_{3})I(a_{0},a_{1},0,a_{2}) & -I(a_{0},a_{1})I(a_{1},a_{0})I(a_{0},a_{2},a_{3}) & I(a_{0},a_{1})I(a_{2},a_{3})I(a_{1},0,a_{2}) & 0 & 1 & 0 \\\\ I(a_{0},a_{1},0^{2},a_{2},a_{3}) & -I(a_{0},a_{1})I(a_{1},0^{2},a_{2},a_{3}) & -I(a_{2},a_{3})I(a_{0},a_{1},0^{2},a_{2}) & -I(a_{0},a_{1})I(a_{0},a_{2},a_{3})I(a_{1},0,a_{0})-I(a_{0},a_{1})I(a_{1},a_{0})I(a_{0},0,a_{2},a_{3}) & I(a_{0},a_{1})I(a_{2},a_{3})I(a_{1},0^{2},a_{2}) & -I(a_{0},a_{1})I(a_{1},a_{0})I(a_{0},a_{2},a_{3}) & I(a_{0},a_{1})I(a_{1},a_{0})I(a_{2},a_{3})I(a_{0},0,a_{2})+I(a_{0},a_{2})I(a_{0},a_{1})I(a_{2},a_{3})I(a_{1},0,a_{0}) & 1\\end{bmatrix}$"
            ],
            "text/plain": [
              "\"\\$\\\\begin{bmatrix}1 & 0 & 0 & 0 & 0 & 0 & 0 & 0 \\\\\\\\ -I(a_{0},a_{1},a_{3}) & 1 & 0 & 0 & 0 & 0 & 0 & 0 \\\\\\\\ -I(a_{0},a_{2},a_{3}) & 0 & 1 & 0 & 0 & 0 & 0 & 0 \\\\\\\\ -I(a_{0},a_{1},0,a_{3}) & I(a_{0},a_{1})I(a_{1},0,a_{3}) & 0 & 1 & 0 & 0 & 0 & 0 \\\\\\\\ I(a_{0},a_{1},a_{2},a_{3}) & -I(\"\u001b[93m\u001b[1m ⋯ 693 bytes ⋯ \u001b[22m\u001b[39m\",a_{0})I(a_{0},0,a_{2},a_{3}) & I(a_{0},a_{1})I(a_{2},a_{3})I(a_{1},0^{2},a_{2}) & -I(a_{0},a_{1})I(a_{1},a_{0})I(a_{0},a_{2},a_{3}) & I(a_{0},a_{1})I(a_{1},a_{0})I(a_{2},a_{3})I(a_{0},0,a_{2})+I(a_{0},a_{2})I(a_{0},a_{1})I(a_{2},a_{3})I(a_{1},0,a_{0}) & 1\\\\end{bmatrix}\\$\""
            ]
          },
          "metadata": {},
          "output_type": "display_data"
        }
      ],
      "source": [
        "# V = VariationMatrix(Li((3,),(1,)))\n",
        "V = VariationMatrix(Li((3,1),(1,2)))\n",
        "L\"%$(latex_repr(\n",
        "V\n",
        "# Phi(V, 2)\n",
        "# Phi(V[4,2], 2)\n",
        "# Phi(ISymb(0,1,2,1,1),2)\n",
        "# invLi((1,1),(1,2))\n",
        "# invLi((1,1,1,1,1),(1,2,3,4,5))\n",
        "))\""
      ]
    },
    {
      "cell_type": "code",
      "execution_count": 3,
      "metadata": {},
      "outputs": [
        {
          "data": {
            "text/plain": [
              "\"[x_{1}]_{2}+[x_{2}]_{2}+(-1)[x_{1},x_{2}]_{1,1}+(\\\\frac{1}{2})[x_{1}]_{0}^{2}+(-1)[x_{1}]_{1}[x_{1\\\\to 3}]_{0}+(-1)[x_{1}]_{0}[x_{1\\\\to 3}]_{0}+[x_{1}]_{1}[x_{2}]_{1}+[x_{1}]_{0}[x_{2}]_{1}+(-1)[x_{1\\\\to 3}]_{0}[x_{2}]_{1}\""
            ]
          },
          "metadata": {},
          "output_type": "display_data"
        }
      ],
      "source": [
        "# ISymb(1,2,2) |> latex_repr\n",
        "# invLi((1,),(1,)) |> latex_repr\n",
        "# invLi((10,),(1,)) |> latex_repr\n",
        "invLi((1,1),(1,2)) |> latex_repr\n",
        "# Phi(ISymb(1,2,2), 1) |> latex_repr"
      ]
    },
    {
      "cell_type": "code",
      "execution_count": null,
      "metadata": {},
      "outputs": [],
      "source": [
        "# V = VariationMatrix(Li((3,1),(1,2)))\n",
        "# V = VariationMatrix(Li((10,),(1,)))\n",
        "# V = VariationMatrix(Li((1,1),(1,2)))\n",
        "V = VariationMatrix(Li((1,1,1,1,1,1),(1,2,3,4,5,6)))\n",
        "L\"%$(latex_repr(\n",
        "# V\n",
        "Phi(V, 6)\n",
        "# Phi(V, 1)\n",
        "))\""
      ]
    },
    {
      "cell_type": "code",
      "execution_count": 8,
      "metadata": {},
      "outputs": [
        {
          "data": {
            "text/latex": [
              "$\\begin{bmatrix}1 \\\\ [x_{1}]_{1} \\\\ [x_{1}]_{2} \\\\ [x_{1}]_{3}\\end{bmatrix}$"
            ],
            "text/plain": [
              "L\"$\\begin{bmatrix}1 \\\\ [x_{1}]_{1} \\\\ [x_{1}]_{2} \\\\ [x_{1}]_{3}\\end{bmatrix}$\""
            ]
          },
          "metadata": {},
          "output_type": "display_data"
        }
      ],
      "source": [
        "L\"%$(latex_repr(\n",
        "# fundamental_column(Li((2,),(1,)))\n",
        "# VariationMatrix(Li((2,),(1,)))\n",
        "# C[10000:10050]\n",
        "fundamental_column( Li((3,),(1,)) )\n",
        "# Phi_inv(fundamental_column(Li((2,2,2),(1,2,3)))[4,1])\n",
        "# fundamental_column(HSymb(1,2,2,3,3,4,4))\n",
        "# HSymb(1,2,2,3,3,4,4)\n",
        "))\""
      ]
    },
    {
      "cell_type": "code",
      "execution_count": 10,
      "metadata": {},
      "outputs": [
        {
          "data": {
            "text/latex": [
              "$I(a_{0},a_{2},a_{1})$"
            ],
            "text/plain": [
              "L\"$I(a_{0},a_{2},a_{1})$\""
            ]
          },
          "metadata": {},
          "output_type": "display_data"
        }
      ],
      "source": [
        "L\"%$(latex_repr(\n",
        "# Phi_inv(Li((2,),(1:3,)))\n",
        "# Phi(ISymb(0,1,2),3)\n",
        "ISymb(0,1,2,1,1)\n",
        "))\"\n",
        "# Phi(V[3,1])"
      ]
    },
    {
      "cell_type": "markdown",
      "metadata": {
        "id": "kx0tUMiLwE4E"
      },
      "source": [
        "## One form"
      ]
    },
    {
      "cell_type": "markdown",
      "metadata": {
        "id": "k0jrNEIvwXnB"
      },
      "source": [
        "## Connection form"
      ]
    },
    {
      "cell_type": "markdown",
      "metadata": {},
      "source": []
    }
  ],
  "metadata": {
    "colab": {
      "provenance": []
    },
    "kernelspec": {
      "display_name": "Julia 1.11.5",
      "language": "julia",
      "name": "julia-1.11"
    },
    "language_info": {
      "file_extension": ".jl",
      "mimetype": "application/julia",
      "name": "julia",
      "version": "1.11.5"
    }
  },
  "nbformat": 4,
  "nbformat_minor": 0
}
